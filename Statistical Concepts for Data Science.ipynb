{
 "cells": [
  {
   "cell_type": "markdown",
   "id": "3dcb4298",
   "metadata": {},
   "source": [
    "# Probability Distributions"
   ]
  },
  {
   "cell_type": "markdown",
   "id": "5b15a960",
   "metadata": {},
   "source": [
    "## Geometric Distribution"
   ]
  },
  {
   "cell_type": "markdown",
   "id": "6b53073a",
   "metadata": {},
   "source": [
    "Anele is playing tournament chess against a computer program and the probability he wins against the program at any given game is 0.25. Anele is playing several practice games every day, one after the other.\n",
    "Find the probability that on a given day \n",
    "a) Anele wins for the first time on the the 4th game played.\n",
    "b) Anele has to play more than 4 games before he wins for the first time."
   ]
  },
  {
   "cell_type": "code",
   "execution_count": 1,
   "id": "6bc86d13",
   "metadata": {},
   "outputs": [
    {
     "name": "stdout",
     "output_type": "stream",
     "text": [
      "0.10546875\n",
      "0.31640625000000006\n"
     ]
    }
   ],
   "source": [
    "# Geometric Question\n",
    "from scipy.stats import geom\n",
    "a = geom.pmf(4, 0.25)\n",
    "print(a)\n",
    "b = geom.sf(4, 0.25)\n",
    "print(b)"
   ]
  },
  {
   "cell_type": "markdown",
   "id": "c9624ce3",
   "metadata": {},
   "source": [
    "## Binomial Distribution"
   ]
  },
  {
   "cell_type": "markdown",
   "id": "2c42d74f",
   "metadata": {},
   "source": [
    "The random variable X has binomial distribution X~Bin(30,0.3). Determine each of the following.\n",
    "a) $P(X=11)$\n",
    "b) $P(X<15)$\n",
    "c) $P(X>10)$\n",
    "d) $P(8< X \\leq 13)$"
   ]
  },
  {
   "cell_type": "code",
   "execution_count": 2,
   "id": "8f68140f",
   "metadata": {},
   "outputs": [
    {
     "name": "stdout",
     "output_type": "stream",
     "text": [
      "0.11030781900935062\n",
      "0.9830626885074504\n",
      "0.2696296136972765\n",
      "0.5284295460349258\n"
     ]
    }
   ],
   "source": [
    "from scipy.stats import binom\n",
    "a = binom.pmf(k=11, n=30, p=0.3)\n",
    "print(a)\n",
    "b = binom.cdf(k=14, n=30, p=0.3)\n",
    "print(b)\n",
    "c = binom.sf(k=10, n=30, p=0.3)\n",
    "print(c)\n",
    "d = binom.cdf(k=13, n=30, p=0.3) - binom.cdf(k=8, n=30, p=0.3)\n",
    "print(d)"
   ]
  },
  {
   "cell_type": "markdown",
   "id": "63e0d89e",
   "metadata": {},
   "source": [
    "## Poisson Distribution"
   ]
  },
  {
   "cell_type": "markdown",
   "id": "cbcc82f3",
   "metadata": {},
   "source": [
    "A bakery sells chocolate birthday cakes through the internet. Orders for chocolate cakes are random and arrive at the constant rate of 4.5 per day. At the start of any given day, the bakery produces 6 chocolate birthday cakes and\n",
    "produces no more until the day after.\n",
    "a) Find the probability that by the middle of a working day the bakery would have\n",
    "sold half the chocolate birthday cakes it produced for that day.\n",
    "b) Calculate the probability that by the end of the working day the bakery would\n",
    "have sold all the chocolate birthday cakes it produced for the day.\n"
   ]
  },
  {
   "cell_type": "code",
   "execution_count": 3,
   "id": "643287c8",
   "metadata": {},
   "outputs": [
    {
     "name": "stdout",
     "output_type": "stream",
     "text": [
      "0.20009384037916433\n",
      "0.29706956513917254\n"
     ]
    }
   ],
   "source": [
    "from scipy.stats import poisson\n",
    "a = poisson.pmf(k=3, mu=2.25)\n",
    "print(a)\n",
    "b = poisson.sf(k=5, mu=4.5)\n",
    "print(b)\n"
   ]
  },
  {
   "cell_type": "markdown",
   "id": "d50d5619",
   "metadata": {},
   "source": [
    "# Normal distribution"
   ]
  },
  {
   "cell_type": "markdown",
   "id": "543e15b1",
   "metadata": {},
   "source": [
    "The average number of acres burned by forest and range fires in a large New Mexico county is 4,300 acres\n",
    "per year, with a standard deviation of 750 acres. The distribution of the number of acres burned is normal.\n",
    "What is the probability that between 2,500 and 4,200 acres will be burned in any given year?"
   ]
  },
  {
   "cell_type": "code",
   "execution_count": 4,
   "id": "fe53e648",
   "metadata": {},
   "outputs": [
    {
     "name": "stdout",
     "output_type": "stream",
     "text": [
      "0.43876734745178986\n"
     ]
    }
   ],
   "source": [
    "from scipy.stats import norm\n",
    "a = norm.cdf(x=4200, loc=4300, scale=750)-norm.cdf(x=2500, loc=4300, scale=750)\n",
    "print(a)"
   ]
  },
  {
   "cell_type": "markdown",
   "id": "4eb1f691",
   "metadata": {},
   "source": [
    "# Measures of Central Tendency"
   ]
  },
  {
   "cell_type": "code",
   "execution_count": 5,
   "id": "b108afb9",
   "metadata": {},
   "outputs": [
    {
     "name": "stdout",
     "output_type": "stream",
     "text": [
      "The mean, mode and median for the array is 3.272727272727273, [3] and 3.0 respectively\n"
     ]
    }
   ],
   "source": [
    "import numpy as np\n",
    "from scipy import stats\n",
    "\n",
    "x = [2,3,4,5,3,2,3,4,5,3,2,4,5,3,2,4,5,2,2,4,5,2,3,3,3,4,3,3,3,3,4,3,2]\n",
    "a=average = np.mean(x)\n",
    "b= stats.mode(x)\n",
    "b = b[0]\n",
    "c = np.median(x)\n",
    "print(\"The mean, mode and median for the array is {}, {} and {} respectively\".format(a,b,c))"
   ]
  },
  {
   "cell_type": "markdown",
   "id": "d60080f3",
   "metadata": {},
   "source": [
    "# Measures of Dispersion\n"
   ]
  },
  {
   "cell_type": "code",
   "execution_count": 6,
   "id": "466199e3",
   "metadata": {},
   "outputs": [
    {
     "name": "stdout",
     "output_type": "stream",
     "text": [
      "The standard deviation is 0.9930890671620569\n",
      "The variance is 0.9862258953168045\n",
      "The range is 3\n"
     ]
    }
   ],
   "source": [
    "x = [2,3,4,5,3,2,3,4,5,3,2,4,5,3,2,4,5,2,2,4,5,2,3,3,3,4,3,3,3,3,4,3,2]\n",
    "a = np.std(x)\n",
    "print(\"The standard deviation is {}\".format(a))\n",
    "b = np.var(x)\n",
    "print(\"The variance is {}\".format(b))\n",
    "c = max(x)-min(x)\n",
    "print(\"The range is {}\".format(c))"
   ]
  },
  {
   "cell_type": "markdown",
   "id": "f439f5f1",
   "metadata": {},
   "source": [
    "# Covariance and Correlation"
   ]
  },
  {
   "cell_type": "code",
   "execution_count": 7,
   "id": "7587d6a1",
   "metadata": {},
   "outputs": [
    {
     "data": {
      "text/plain": [
       "array([[ 1.01704545,  6.53977273],\n",
       "       [ 6.53977273, 93.67613636]])"
      ]
     },
     "execution_count": 7,
     "metadata": {},
     "output_type": "execute_result"
    }
   ],
   "source": [
    "from scipy import stats\n",
    "x = [2,3,4,5,3,2,3,4,5,3,2,4,5,3,2,4,5,2,2,4,5,2,3,3,3,4,3,3,3,3,4,3,2]\n",
    "z = [22,23,24,25,23,22,23,42,25,23,22,24,52,32,22,42,52,22,22,42,52,22,23,23,23,24,23,23,23,23,24,23,22]\n",
    "\n",
    "np.cov(x,z)\n"
   ]
  },
  {
   "cell_type": "code",
   "execution_count": 8,
   "id": "7ed87011",
   "metadata": {},
   "outputs": [
    {
     "data": {
      "text/plain": [
       "(0.6700049158871217, 1.998606625233726e-05)"
      ]
     },
     "execution_count": 8,
     "metadata": {},
     "output_type": "execute_result"
    }
   ],
   "source": [
    "stats.pearsonr(x, z)\n"
   ]
  },
  {
   "cell_type": "markdown",
   "id": "861865d4",
   "metadata": {},
   "source": [
    "# Linear Regression"
   ]
  },
  {
   "cell_type": "code",
   "execution_count": 9,
   "id": "0692dbf4",
   "metadata": {},
   "outputs": [
    {
     "name": "stdout",
     "output_type": "stream",
     "text": [
      "0.06981257960817613\n",
      "11.343361436283132\n",
      "0.6700049158871219\n",
      "1.998606625233714e-05\n",
      "0.013892725652319315\n"
     ]
    }
   ],
   "source": [
    "x = [22,23,24,25,23,22,23,42,25,23,22,24,52,32,22,42,52,22,22,42,52,22,23,23,23,24,23,23,23,23,24,23,22]\n",
    "y = [12,13,14,15,13,12,13,14,15,13,12,14,15,13,12,14,15,12,12,14,15,12,13,13,13,14,13,13,13,13,14,13,12]\n",
    "\n",
    "slope, intercept, r, p, se = stats.linregress(x, y)\n",
    "print(slope)\n",
    "print(intercept)\n",
    "print(r)\n",
    "print(p)\n",
    "print(se)"
   ]
  },
  {
   "cell_type": "markdown",
   "id": "c61fbe19",
   "metadata": {},
   "source": [
    "# Percintiles"
   ]
  },
  {
   "cell_type": "code",
   "execution_count": 10,
   "id": "88648763",
   "metadata": {},
   "outputs": [
    {
     "data": {
      "text/plain": [
       "23.0"
      ]
     },
     "execution_count": 10,
     "metadata": {},
     "output_type": "execute_result"
    }
   ],
   "source": [
    "from scipy import stats\n",
    "x = [22,23,24,25,23,22,23,42,25,23,22,24,52,32,22,42,52,22,22,42,52,22,23,23,23,24,23,23,23,23,24,23,22]\n",
    "stats.scoreatpercentile(x, 50)"
   ]
  },
  {
   "cell_type": "markdown",
   "id": "8feaa592",
   "metadata": {},
   "source": [
    "# Confidence Interval"
   ]
  },
  {
   "cell_type": "code",
   "execution_count": 11,
   "id": "96243ea5",
   "metadata": {},
   "outputs": [
    {
     "data": {
      "text/plain": [
       "(13.916377639386395, 41.35634963334088)"
      ]
     },
     "execution_count": 11,
     "metadata": {},
     "output_type": "execute_result"
    }
   ],
   "source": [
    "mean, sigma = np.mean(x), np.std(x)\n",
    "#85% CI\n",
    "stats.norm.interval(0.85, loc=mean, scale=sigma)\n"
   ]
  },
  {
   "cell_type": "code",
   "execution_count": 12,
   "id": "608ee9d9",
   "metadata": {},
   "outputs": [
    {
     "data": {
      "text/plain": [
       "(8.956203483325261, 46.31652378940201)"
      ]
     },
     "execution_count": 12,
     "metadata": {},
     "output_type": "execute_result"
    }
   ],
   "source": [
    "#95% CI\n",
    "stats.norm.interval(0.95, loc=mean, scale=sigma)"
   ]
  },
  {
   "cell_type": "markdown",
   "id": "f24ca34f",
   "metadata": {},
   "source": [
    "# Skewness "
   ]
  },
  {
   "cell_type": "code",
   "execution_count": 13,
   "id": "db80c3d2",
   "metadata": {},
   "outputs": [
    {
     "data": {
      "text/plain": [
       "1.7326425394468898"
      ]
     },
     "execution_count": 13,
     "metadata": {},
     "output_type": "execute_result"
    }
   ],
   "source": [
    "from scipy.stats import stats\n",
    "stats.skew(x)"
   ]
  },
  {
   "cell_type": "markdown",
   "id": "0d2b3414",
   "metadata": {},
   "source": [
    "# Kurtosis"
   ]
  },
  {
   "cell_type": "code",
   "execution_count": 14,
   "id": "12c09739",
   "metadata": {},
   "outputs": [
    {
     "data": {
      "text/plain": [
       "1.4051407765816792"
      ]
     },
     "execution_count": 14,
     "metadata": {},
     "output_type": "execute_result"
    }
   ],
   "source": [
    "from scipy.stats import stats\n",
    "stats.kurtosis(x)"
   ]
  },
  {
   "cell_type": "markdown",
   "id": "45926495",
   "metadata": {},
   "source": [
    "# Linear Algebra"
   ]
  },
  {
   "cell_type": "code",
   "execution_count": 16,
   "id": "6c1632e0",
   "metadata": {},
   "outputs": [
    {
     "name": "stdout",
     "output_type": "stream",
     "text": [
      "[[ 0.09090909  0.81818182 -0.72727273 -0.18181818  0.09090909]\n",
      " [-0.30958231  0.37592138  0.04422604 -0.05651106  0.04176904]\n",
      " [ 0.21130221 -0.82800983  0.25552826  0.11793612  0.13022113]\n",
      " [-0.01228501  0.94348894 -0.71253071  0.13267813 -0.22850123]\n",
      " [ 0.         -1.          1.          0.          0.        ]]\n"
     ]
    }
   ],
   "source": [
    "# Import the required libraries\n",
    "from scipy import linalg\n",
    "import numpy as np\n",
    "\n",
    "# Initializing the matrix\n",
    "x = np.array([[7, 2, 5, 6, 8], [5, 4, 4, 5, 6], [5, 4, 4, 5, 7], [4, 7, 9, 8, 6], [7, 8, 9, 5, 6]])\n",
    "\n",
    "# Finding the inverse of\n",
    "# matrix x\n",
    "y = linalg.inv(x)\n",
    "print(y)"
   ]
  },
  {
   "cell_type": "code",
   "execution_count": null,
   "id": "7b07a661",
   "metadata": {},
   "outputs": [],
   "source": []
  }
 ],
 "metadata": {
  "kernelspec": {
   "display_name": "Python 3",
   "language": "python",
   "name": "python3"
  },
  "language_info": {
   "codemirror_mode": {
    "name": "ipython",
    "version": 3
   },
   "file_extension": ".py",
   "mimetype": "text/x-python",
   "name": "python",
   "nbconvert_exporter": "python",
   "pygments_lexer": "ipython3",
   "version": "3.8.5"
  }
 },
 "nbformat": 4,
 "nbformat_minor": 5
}
